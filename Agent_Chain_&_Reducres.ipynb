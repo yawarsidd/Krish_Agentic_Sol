{
  "cells": [
    {
      "cell_type": "code",
      "execution_count": null,
      "id": "ba104d43-d2ec-45c7-be2f-2c803f7c007f",
      "metadata": {
        "id": "ba104d43-d2ec-45c7-be2f-2c803f7c007f"
      },
      "outputs": [],
      "source": [
        "%%capture --no-stderr\n",
        "%pip install --quiet -U langchain_openai langchain_core langgraph"
      ]
    },
    {
      "cell_type": "code",
      "execution_count": null,
      "id": "24395d2c-df35-4474-9a5f-d7e55e3b217f",
      "metadata": {
        "id": "24395d2c-df35-4474-9a5f-d7e55e3b217f"
      },
      "outputs": [],
      "source": [
        "from langchain_core.messages import AIMessage, HumanMessage\n",
        "from langchain_openai import AzureChatOpenAI"
      ]
    },
    {
      "cell_type": "code",
      "execution_count": null,
      "id": "39de1532-21c8-4807-bed0-40dd88f76a8e",
      "metadata": {
        "id": "39de1532-21c8-4807-bed0-40dd88f76a8e",
        "outputId": "4af112e2-552c-410b-ba5a-054cac343793"
      },
      "outputs": [
        {
          "name": "stdout",
          "output_type": "stream",
          "text": [
            "==================================\u001b[1m Ai Message \u001b[0m==================================\n",
            "Name: Model\n",
            "\n",
            "So you said you were researching ocean mammals?\n",
            "================================\u001b[1m Human Message \u001b[0m=================================\n",
            "Name: Lance\n",
            "\n",
            "Yes, that's right.\n",
            "==================================\u001b[1m Ai Message \u001b[0m==================================\n",
            "Name: Model\n",
            "\n",
            "Great, what would you like to learn about.\n",
            "================================\u001b[1m Human Message \u001b[0m=================================\n",
            "Name: Lance\n",
            "\n",
            "I want to learn about the best place to see Orcas in the US.\n"
          ]
        }
      ],
      "source": [
        "messages = [AIMessage(content=f\"So you said you were researching ocean mammals?\", name=\"Model\")]\n",
        "messages.append(HumanMessage(content=f\"Yes, that's right.\",name=\"Lance\"))\n",
        "messages.append(AIMessage(content=f\"Great, what would you like to learn about.\", name=\"Model\"))\n",
        "messages.append(HumanMessage(content=f\"I want to learn about the best place to see Orcas in the US.\", name=\"Lance\"))\n",
        "\n",
        "for m in messages:\n",
        "    m.pretty_print()"
      ]
    },
    {
      "cell_type": "code",
      "execution_count": null,
      "id": "5b1dced5-8591-47cd-a3ff-e329ffac4c2b",
      "metadata": {
        "id": "5b1dced5-8591-47cd-a3ff-e329ffac4c2b"
      },
      "outputs": [],
      "source": [
        "AZURE_API_BASE = \"https://oai-lexai-dev.openai.azure.com\"\n",
        "AZURE_API_KEY = \"\"\n",
        "AZURE_DEPLOYMENT_NAME = \"gpt-4.1\"\n",
        "AZURE_API_VERSION = \"2025-01-01-preview\"\n",
        "\n",
        "llm = AzureChatOpenAI(\n",
        "    azure_endpoint=AZURE_API_BASE,\n",
        "    openai_api_key=AZURE_API_KEY,\n",
        "    deployment_name=AZURE_DEPLOYMENT_NAME,\n",
        "    openai_api_version=AZURE_API_VERSION,\n",
        "    temperature=0\n",
        ")"
      ]
    },
    {
      "cell_type": "code",
      "execution_count": null,
      "id": "3ae3b989-9292-4999-b5df-39230d9583d2",
      "metadata": {
        "id": "3ae3b989-9292-4999-b5df-39230d9583d2"
      },
      "outputs": [],
      "source": [
        "def multiply(a: int, b: int) -> int:\n",
        "    \"\"\"Multiply a and b.\n",
        "\n",
        "    Args:\n",
        "        a: first int\n",
        "        b: second int\n",
        "    \"\"\"\n",
        "    return a * b\n",
        "\n",
        "llm_with_tools = llm.bind_tools([multiply])"
      ]
    },
    {
      "cell_type": "code",
      "execution_count": null,
      "id": "bfecea54-49d8-4082-a52b-f21114c788e7",
      "metadata": {
        "id": "bfecea54-49d8-4082-a52b-f21114c788e7"
      },
      "outputs": [],
      "source": [
        "tool_call = llm_with_tools.invoke([HumanMessage(content=f\"What is 2 multiplied by 3\", name=\"Lance\")])"
      ]
    },
    {
      "cell_type": "code",
      "execution_count": null,
      "id": "eb09dd52-5792-451e-b887-f1a39fb5506f",
      "metadata": {
        "id": "eb09dd52-5792-451e-b887-f1a39fb5506f",
        "outputId": "828ee18f-0377-49c8-bc1d-9c4b64666e6f"
      },
      "outputs": [
        {
          "data": {
            "text/plain": [
              "[{'name': 'multiply',\n",
              "  'args': {'a': 2, 'b': 3},\n",
              "  'id': 'call_V3Y1mxwNioofuYpn2LPd1t3U',\n",
              "  'type': 'tool_call'}]"
            ]
          },
          "execution_count": 24,
          "metadata": {},
          "output_type": "execute_result"
        }
      ],
      "source": [
        "tool_call.tool_calls"
      ]
    },
    {
      "cell_type": "code",
      "execution_count": null,
      "id": "31cde396-00ed-4423-9d21-15593ddaa064",
      "metadata": {
        "id": "31cde396-00ed-4423-9d21-15593ddaa064"
      },
      "outputs": [],
      "source": [
        "# State, Nodes, Edges"
      ]
    },
    {
      "cell_type": "markdown",
      "id": "f74715c7-e499-4f3c-8f47-8ac0ef59d19a",
      "metadata": {
        "id": "f74715c7-e499-4f3c-8f47-8ac0ef59d19a"
      },
      "source": [
        "State: What information do we need to track over the course of the application?\n",
        "Nodes: How do we want to update this information over the course of the application?\n",
        "Edges: How do we want to connect these nodes together?"
      ]
    },
    {
      "cell_type": "code",
      "execution_count": null,
      "id": "ac71a8b4-a629-4425-9569-b460fff9ec54",
      "metadata": {
        "id": "ac71a8b4-a629-4425-9569-b460fff9ec54"
      },
      "outputs": [],
      "source": []
    },
    {
      "cell_type": "markdown",
      "id": "65ba8611-d18a-4694-8d88-f5eb671c5eaf",
      "metadata": {
        "id": "65ba8611-d18a-4694-8d88-f5eb671c5eaf"
      },
      "source": [
        "Using messages as state\n",
        "\n",
        "With these foundations in place, we can now use messages in our graph state.\n",
        "\n",
        "Let's define our state, MessagesState, as a TypedDict with a single key: messages.\n",
        "\n",
        "messages is simply a list of messages, as we defined above (e.g., HumanMessage, etc)."
      ]
    },
    {
      "cell_type": "code",
      "execution_count": null,
      "id": "081cdf6a-0a51-4732-86d5-f9613a311a75",
      "metadata": {
        "id": "081cdf6a-0a51-4732-86d5-f9613a311a75"
      },
      "outputs": [],
      "source": [
        "from typing_extensions import TypedDict\n",
        "from langchain_core.messages import AnyMessage\n",
        "\n",
        "class MessagesState(TypedDict):\n",
        "    messages: list[AnyMessage]"
      ]
    },
    {
      "cell_type": "markdown",
      "id": "87829059-9c80-493a-a2de-2a047b13bafe",
      "metadata": {
        "id": "87829059-9c80-493a-a2de-2a047b13bafe"
      },
      "source": [
        "Now, we have a minor problem!\n",
        "\n",
        "As we discussed, each node will return a new value for our state key messages.\n",
        "\n",
        "But, this new value will override the prior messages value.\n",
        "\n",
        "As our graph runs, we want to append messages to our messages state key.\n",
        "\n",
        "We can use reducer functions to address this.\n",
        "\n",
        "Reducers allow us to specify how state updates are performed.\n",
        "\n",
        "If no reducer function is specified, then it is assumed that updates to the key should override it as we saw before.\n",
        "\n",
        "But, to append messages, we can use the pre-built add_messages reducer.\n",
        "\n",
        "This ensures that any messages are appended to the existing list of messages.\n",
        "\n",
        "We simply need to annotate our messages key with the add_messages reducer function as metadata."
      ]
    },
    {
      "cell_type": "code",
      "execution_count": null,
      "id": "fe693b7b-717b-4d6b-88be-5500022de2fb",
      "metadata": {
        "id": "fe693b7b-717b-4d6b-88be-5500022de2fb"
      },
      "outputs": [],
      "source": [
        "from typing import Annotated\n",
        "from langgraph.graph.message import add_messages\n",
        "\n",
        "class MessagesState(TypedDict):\n",
        "    messages: Annotated[list[AnyMessage], add_messages]"
      ]
    },
    {
      "cell_type": "markdown",
      "id": "e1b423d7-fbcc-4474-a5c9-388d60ba6159",
      "metadata": {
        "id": "e1b423d7-fbcc-4474-a5c9-388d60ba6159"
      },
      "source": [
        "Since having a list of messages in graph state is so common, LangGraph has a pre-built MessagesState!\n",
        "\n",
        "MessagesState is defined:\n",
        "\n",
        "With a pre-build single messages key\n",
        "This is a list of AnyMessage objects\n",
        "It uses the add_messages reducer\n",
        "We'll usually use MessagesState because it is less verbose than defining a custom TypedDict, as shown above."
      ]
    },
    {
      "cell_type": "markdown",
      "id": "40798745-e84b-4350-91b5-190c26cfe56c",
      "metadata": {
        "id": "40798745-e84b-4350-91b5-190c26cfe56c"
      },
      "source": [
        "Mostly used that below message state in Chatbot which has same functionality as above"
      ]
    },
    {
      "cell_type": "code",
      "execution_count": null,
      "id": "1ddc9b71-28bf-44a7-b21e-0299bd124cbc",
      "metadata": {
        "id": "1ddc9b71-28bf-44a7-b21e-0299bd124cbc"
      },
      "outputs": [],
      "source": [
        "from langgraph.graph import MessagesState\n",
        "\n",
        "class MessagesState(MessagesState):\n",
        "    # Add any keys needed beyond messages, which is pre-built\n",
        "    pass"
      ]
    },
    {
      "cell_type": "markdown",
      "id": "c2bbf904-b16d-4798-a7b4-bed60b921ffb",
      "metadata": {
        "id": "c2bbf904-b16d-4798-a7b4-bed60b921ffb"
      },
      "source": [
        "This message state contain the same functionality with the message key along with appending the message one by one."
      ]
    },
    {
      "cell_type": "code",
      "execution_count": null,
      "id": "229d9872-3b24-4fd2-bd34-2fcc220516b6",
      "metadata": {
        "id": "229d9872-3b24-4fd2-bd34-2fcc220516b6",
        "outputId": "cd664509-ceee-4703-d8a6-d24ac4379ee8"
      },
      "outputs": [
        {
          "data": {
            "text/plain": [
              "[AIMessage(content='Hello! How can I assist you?', additional_kwargs={}, response_metadata={}, name='Model', id='ac853c3d-d9a3-4c09-ae11-e6726dc3563f'),\n",
              " HumanMessage(content=\"I'm looking for information on marine biology.\", additional_kwargs={}, response_metadata={}, name='Lance', id='20e2f658-138e-4eaa-a1bb-9be6c1162425'),\n",
              " AIMessage(content='Sure, I can help with that. What specifically are you interested in?', additional_kwargs={}, response_metadata={}, name='Model', id='9a9cf25f-aaf0-4846-b642-d082813af1e6')]"
            ]
          },
          "execution_count": 45,
          "metadata": {},
          "output_type": "execute_result"
        }
      ],
      "source": [
        "# Initial state\n",
        "initial_messages = [AIMessage(content=\"Hello! How can I assist you?\", name=\"Model\"),\n",
        "                    HumanMessage(content=\"I'm looking for information on marine biology.\", name=\"Lance\")\n",
        "                   ]\n",
        "\n",
        "# New message to add\n",
        "new_message = AIMessage(content=\"Sure, I can help with that. What specifically are you interested in?\", name=\"Model\")\n",
        "\n",
        "# Test\n",
        "add_messages(initial_messages , new_message)"
      ]
    },
    {
      "cell_type": "code",
      "execution_count": null,
      "id": "4d821b99-c2e6-454d-9269-e3e837098ac9",
      "metadata": {
        "id": "4d821b99-c2e6-454d-9269-e3e837098ac9"
      },
      "outputs": [],
      "source": [
        "from IPython.display import Image, display\n",
        "from langgraph.graph import StateGraph, START, END\n",
        "\n",
        "# Node\n",
        "def tool_calling_llm(state: MessagesState):\n",
        "    return {\"messages\": [llm_with_tools.invoke(state[\"messages\"])]}\n",
        "\n",
        "# Build graph\n",
        "builder = StateGraph(MessagesState)\n",
        "builder.add_node(\"tool_calling_llm\", tool_calling_llm)\n",
        "builder.add_edge(START, \"tool_calling_llm\")\n",
        "builder.add_edge(\"tool_calling_llm\", END)\n",
        "graph = builder.compile()\n",
        "\n"
      ]
    },
    {
      "cell_type": "code",
      "execution_count": null,
      "id": "91f11876-c24e-4f4f-ad9b-b572aa89efb9",
      "metadata": {
        "id": "91f11876-c24e-4f4f-ad9b-b572aa89efb9",
        "outputId": "73b76459-1773-489f-96ec-dd1e24370f5c"
      },
      "outputs": [
        {
          "data": {
            "image/png": "[encoded data removed]",
            "text/plain": [
              "<IPython.core.display.Image object>"
            ]
          },
          "metadata": {},
          "output_type": "display_data"
        }
      ],
      "source": [
        "# View\n",
        "#display(Image(graph.get_graph().draw_mermaid_png()))"
      ]
    },
    {
      "cell_type": "code",
      "execution_count": null,
      "id": "dbeffb9b-e14b-4661-8def-94e8d9824770",
      "metadata": {
        "id": "dbeffb9b-e14b-4661-8def-94e8d9824770",
        "outputId": "69721743-e717-4ee9-c1c9-2a7eb6d1d514"
      },
      "outputs": [
        {
          "name": "stdout",
          "output_type": "stream",
          "text": [
            "================================\u001b[1m Human Message \u001b[0m=================================\n",
            "\n",
            "Hello!\n",
            "==================================\u001b[1m Ai Message \u001b[0m==================================\n",
            "\n",
            "Hello! How can I help you today?\n"
          ]
        }
      ],
      "source": [
        "messages = graph.invoke({\"messages\": HumanMessage(content=\"Hello!\")})\n",
        "for m in messages['messages']:\n",
        "    m.pretty_print()"
      ]
    },
    {
      "cell_type": "code",
      "execution_count": null,
      "id": "01fb43ae-e744-4887-a132-e9eab96c0e78",
      "metadata": {
        "id": "01fb43ae-e744-4887-a132-e9eab96c0e78",
        "outputId": "d3b8b7af-a22a-4b08-9147-7a4d1c1d42d8"
      },
      "outputs": [
        {
          "name": "stdout",
          "output_type": "stream",
          "text": [
            "================================\u001b[1m Human Message \u001b[0m=================================\n",
            "\n",
            "Multiply 2 and 3\n",
            "==================================\u001b[1m Ai Message \u001b[0m==================================\n",
            "Tool Calls:\n",
            "  multiply (call_pAGGS2vO8OTjzreDAfdlZV37)\n",
            " Call ID: call_pAGGS2vO8OTjzreDAfdlZV37\n",
            "  Args:\n",
            "    a: 2\n",
            "    b: 3\n"
          ]
        }
      ],
      "source": [
        "messages = graph.invoke({\"messages\": HumanMessage(content=\"Multiply 2 and 3\")})\n",
        "for m in messages['messages']:\n",
        "    m.pretty_print()"
      ]
    },
    {
      "cell_type": "code",
      "execution_count": null,
      "id": "087815d8-d08c-4572-b029-c8da283aa6f3",
      "metadata": {
        "id": "087815d8-d08c-4572-b029-c8da283aa6f3"
      },
      "outputs": [],
      "source": []
    }
  ],
  "metadata": {
    "kernelspec": {
      "display_name": "Python 3 (ipykernel)",
      "language": "python",
      "name": "python3"
    },
    "language_info": {
      "codemirror_mode": {
        "name": "ipython",
        "version": 3
      },
      "file_extension": ".py",
      "mimetype": "text/x-python",
      "name": "python",
      "nbconvert_exporter": "python",
      "pygments_lexer": "ipython3",
      "version": "3.12.7"
    },
    "colab": {
      "provenance": []
    }
  },
  "nbformat": 4,
  "nbformat_minor": 5
}