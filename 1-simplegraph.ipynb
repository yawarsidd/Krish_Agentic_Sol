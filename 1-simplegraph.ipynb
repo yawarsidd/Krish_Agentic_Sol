{
 "cells": [
  {
   "cell_type": "markdown",
   "metadata": {},
   "source": [
    "### Build a Simple Workflow or Graph Using LangGraph\n",
    "\n",
    "#### State\n",
    "First, define the State of the graph.\n",
    "\n",
    "The State schema serves as the input schema for all Nodes and Edges in the graph.\n",
    "\n",
    "Let's use the TypedDict class from python's typing module as our schema, which provides type hints for the keys."
   ]
  },
  {
   "cell_type": "code",
   "execution_count": 2,
   "metadata": {},
   "outputs": [],
   "source": [
    "from typing_extensions import TypedDict\n",
    "class State(TypedDict):\n",
    "    graph_info:str"
   ]
  },
  {
   "cell_type": "markdown",
   "metadata": {},
   "source": [
    "#### Nodes\n",
    "Nodes are just python functions.\n",
    "\n",
    "The first positional argument is the state, as defined above.\n",
    "\n",
    "Because the state is a TypedDict with schema as defined above, each node can access the key, graph_state, with state['graph_state'].\n",
    "\n",
    "Each node returns a new value of the state key graph_state.\n",
    "\n",
    "By default, the new value returned by each node will override the prior state value."
   ]
  },
  {
   "cell_type": "code",
   "execution_count": 8,
   "metadata": {},
   "outputs": [],
   "source": [
    "def start_play(state:State):\n",
    "    print(\"Start_Play node has been called\")\n",
    "    return {\"graph_info\":state['graph_info'] + \" I am planning to play\"}\n",
    "\n",
    "def cricket(state:State):\n",
    "    print(\"My Cricket node has been called\")\n",
    "    return {\"graph_info\":state['graph_info'] + \" Cricket\"}\n",
    "\n",
    "def badminton(state:State):\n",
    "    print(\"My badminton node has been called\")\n",
    "    return {\"graph_info\":state['graph_info'] + \" Badminton\"}"
   ]
  },
  {
   "cell_type": "code",
   "execution_count": 4,
   "metadata": {},
   "outputs": [],
   "source": [
    "import random\n",
    "from typing import Literal\n",
    "\n",
    "def random_play(state:State)-> Literal['cricket','badminton']:\n",
    "    graph_info=state['graph_info']\n",
    "\n",
    "    if random.random()>0.5:\n",
    "        return \"cricket\"\n",
    "    else:\n",
    "        return \"badminton\""
   ]
  },
  {
   "cell_type": "markdown",
   "metadata": {},
   "source": [
    "#### Graph Construction\n",
    "Now, we build the graph from our components defined above.\n",
    "\n",
    "The StateGraph class is the graph class that we can use.\n",
    "\n",
    "First, we initialize a StateGraph with the State class we defined above.\n",
    "\n",
    "Then, we add our nodes and edges.\n",
    "\n",
    "We use the START Node, a special node that sends user input to the graph, to indicate where to start our graph.\n",
    "\n",
    "The END Node is a special node that represents a terminal node.\n",
    "\n",
    "Finally, we compile our graph to perform a few basic checks on the graph structure.\n",
    "\n",
    "We can visualize the graph as a Mermaid diagram."
   ]
  },
  {
   "cell_type": "code",
   "execution_count": 10,
   "metadata": {},
   "outputs": [
    {
     "data": {
      "image/png": "[encoded data removed]",
      "text/plain": [
       "<IPython.core.display.Image object>"
      ]
     },
     "metadata": {},
     "output_type": "display_data"
    }
   ],
   "source": [
    "from IPython.display import Image,display\n",
    "from langgraph.graph import StateGraph,START,END\n",
    "\n",
    "## Build Graph\n",
    "graph=StateGraph(State)\n",
    "\n",
    "## Adding the nodes\n",
    "graph.add_node(\"start_play\",start_play)\n",
    "graph.add_node(\"cricket\",cricket)\n",
    "graph.add_node(\"badminton\",badminton)\n",
    "\n",
    "## Schedule the flow of the graph\n",
    "\n",
    "graph.add_edge(START,\"start_play\")\n",
    "graph.add_conditional_edges(\"start_play\",random_play)\n",
    "graph.add_edge(\"cricket\",END)\n",
    "graph.add_edge(\"badminton\",END)\n",
    "\n",
    "## Compile the graph\n",
    "graph_builder=graph.compile()\n",
    "\n",
    "## View\n",
    "display(Image(graph_builder.get_graph().draw_mermaid_png()))"
   ]
  },
  {
   "cell_type": "markdown",
   "metadata": {},
   "source": [
    "### GRAPH Invocation"
   ]
  },
  {
   "cell_type": "code",
   "execution_count": 15,
   "metadata": {},
   "outputs": [
    {
     "name": "stdout",
     "output_type": "stream",
     "text": [
      "Start_Play node has been called\n",
      "My badminton node has been called\n"
     ]
    },
    {
     "data": {
      "text/plain": [
       "{'graph_info': 'Hey My name is Krish I am planning to play Badminton'}"
      ]
     },
     "execution_count": 15,
     "metadata": {},
     "output_type": "execute_result"
    }
   ],
   "source": [
    "graph_builder.invoke({\"graph_info\":\"Hey My name is Krish\"})"
   ]
  },
  {
   "cell_type": "code",
   "execution_count": null,
   "metadata": {},
   "outputs": [],
   "source": []
  },
  {
   "cell_type": "code",
   "execution_count": null,
   "metadata": {},
   "outputs": [],
   "source": []
  },
  {
   "cell_type": "code",
   "execution_count": null,
   "metadata": {},
   "outputs": [],
   "source": []
  },
  {
   "cell_type": "code",
   "execution_count": null,
   "metadata": {},
   "outputs": [],
   "source": []
  }
 ],
 "metadata": {
  "kernelspec": {
   "display_name": "Python 3",
   "language": "python",
   "name": "python3"
  },
  "language_info": {
   "codemirror_mode": {
    "name": "ipython",
    "version": 3
   },
   "file_extension": ".py",
   "mimetype": "text/x-python",
   "name": "python",
   "nbconvert_exporter": "python",
   "pygments_lexer": "ipython3",
   "version": "3.12.0"
  }
 },
 "nbformat": 4,
 "nbformat_minor": 2
}
